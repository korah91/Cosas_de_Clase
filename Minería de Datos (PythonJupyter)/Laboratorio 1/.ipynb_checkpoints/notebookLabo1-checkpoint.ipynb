{
 "cells": [
  {
   "cell_type": "code",
   "execution_count": 32,
   "id": "b5b49258",
   "metadata": {},
   "outputs": [
    {
     "name": "stdout",
     "output_type": "stream",
     "text": [
      ".\\notebookLabo1.ipynb\n",
      ".\\t10k-images-idx3-ubyte.gz\n",
      ".\\t10k-labels-idx1-ubyte.gz\n",
      ".\\train-images-idx3-ubyte.gz\n",
      ".\\train-labels-idx1-ubyte.gz\n",
      ".\\.ipynb_checkpoints\\notebookLabo1-checkpoint.ipynb\n"
     ]
    }
   ],
   "source": [
    "import numpy as np # linear algebra\n",
    "import pandas as pd # data processing, CSV file I/O (e.g. pd.read_csv)\n",
    "from matplotlib import pyplot as plt\n",
    "import gzip\n",
    "import os\n",
    "for dirname, _, filenames in os.walk('.'):\n",
    "    for filename in filenames:\n",
    "        print(os.path.join(dirname, filename))"
   ]
  },
  {
   "cell_type": "code",
   "execution_count": 33,
   "id": "5b9640ca",
   "metadata": {},
   "outputs": [],
   "source": [
    "# X son los atributos (imagenes)\n",
    "# Y son etiquetas (labels)\n",
    "     \n",
    "def leer_imagenes(data):\n",
    "    #Los primeros 4 bits son magic number\n",
    "    #El magicNumber no lo necesitamos asi que lo saltamos\n",
    "    magicNumber = int.from_bytes(data.read(4), \"big\")\n",
    "    #Los siguientes 4 bits son el numero de imagenes\n",
    "    num_images = int.from_bytes(data.read(4), \"big\")\n",
    "    #Los siguientes 4 bits son el numero de filas por imagen\n",
    "    rows = int.from_bytes(data.read(4), \"big\")\n",
    "    #Los siguientes 4 bits son el numero de columnas por imagen\n",
    "    cols = int.from_bytes(data.read(4), \"big\")\n",
    "    #A partir de ahora estan todos los bits de los pixeles\n",
    "    images = data.read()\n",
    "    #Pasamos los datos a numpy\n",
    "    x_ = np.frombuffer(images, dtype = np.uint8)\n",
    "    #Pasamos el array a matrices por cada imagen\n",
    "    x_ = x_.reshape((num_images, rows, cols))\n",
    "    return x_\n",
    "    \n",
    "def leer_etiquetas(data):\n",
    "    #Empezamos a leer despues del byte 8\n",
    "    labels = data.read()[8:]\n",
    "    y_ = np.frombuffer(labels, dtype = np.uint8)\n",
    "    return y_\n",
    "    "
   ]
  },
  {
   "cell_type": "code",
   "execution_count": 34,
   "id": "bada12e0",
   "metadata": {
    "scrolled": false
   },
   "outputs": [],
   "source": [
    "for dirname, _, filenames in os.walk('.'):\n",
    "    for f in filenames:\n",
    "        if \"train-images\" in f:\n",
    "            with gzip.open(f, \"rb\") as data:\n",
    "                    x_train = leer_imagenes(data)\n",
    "        elif \"train-labels\" in f:\n",
    "            with gzip.open(f, \"rb\") as data:\n",
    "                    y_train = leer_etiquetas(data)\n",
    "        elif \"t10k-images\" in f:\n",
    "            with gzip.open(f, \"rb\") as data:\n",
    "                    x_test = leer_imagenes(data)\n",
    "        elif \"t10k-labels\" in f:\n",
    "            with gzip.open(f, \"rb\") as data:\n",
    "                    y_test = leer_etiquetas(data)"
   ]
  },
  {
   "cell_type": "code",
   "execution_count": 37,
   "id": "0a2b34e0",
   "metadata": {
    "scrolled": true
   },
   "outputs": [
    {
     "name": "stdout",
     "output_type": "stream",
     "text": [
      "(60000, 28, 28)\n",
      "(10000, 28, 28)\n",
      "(60000,)\n",
      "(10000,)\n"
     ]
    }
   ],
   "source": [
    "print(x_train.shape)\n",
    "print(x_test.shape)\n",
    "print(y_train.shape)\n",
    "print(y_test.shape)"
   ]
  },
  {
   "cell_type": "code",
   "execution_count": 36,
   "id": "71da15e0",
   "metadata": {
    "scrolled": true
   },
   "outputs": [
    {
     "ename": "AttributeError",
     "evalue": "'numpy.ndarray' object has no attribute 'value_counts'",
     "output_type": "error",
     "traceback": [
      "\u001b[1;31m---------------------------------------------------------------------------\u001b[0m",
      "\u001b[1;31mAttributeError\u001b[0m                            Traceback (most recent call last)",
      "Input \u001b[1;32mIn [36]\u001b[0m, in \u001b[0;36m<cell line: 1>\u001b[1;34m()\u001b[0m\n\u001b[1;32m----> 1\u001b[0m plt\u001b[38;5;241m.\u001b[39mbar(\u001b[43my_train\u001b[49m\u001b[38;5;241;43m.\u001b[39;49m\u001b[43mvalue_counts\u001b[49m()\u001b[38;5;241m.\u001b[39mindex, y_train\u001b[38;5;241m.\u001b[39mvalue_counts())\n",
      "\u001b[1;31mAttributeError\u001b[0m: 'numpy.ndarray' object has no attribute 'value_counts'"
     ]
    }
   ],
   "source": [
    "def mostrar_numero(imagen):\n",
    "    plt.imshow(image.squeeze(), cmap=plt.get_cmap(\"green\"))\n",
    "\n",
    "num = np.random.randint(len(y_train))\n",
    "print(\"La imagen se corresponde con el numero \" + str(num))\n",
    "\n",
    "mostrar_numero(y_train[num])"
   ]
  },
  {
   "cell_type": "code",
   "execution_count": null,
   "id": "644808cd",
   "metadata": {},
   "outputs": [],
   "source": []
  }
 ],
 "metadata": {
  "kernelspec": {
   "display_name": "Python 3 (ipykernel)",
   "language": "python",
   "name": "python3"
  },
  "language_info": {
   "codemirror_mode": {
    "name": "ipython",
    "version": 3
   },
   "file_extension": ".py",
   "mimetype": "text/x-python",
   "name": "python",
   "nbconvert_exporter": "python",
   "pygments_lexer": "ipython3",
   "version": "3.9.12"
  }
 },
 "nbformat": 4,
 "nbformat_minor": 5
}
